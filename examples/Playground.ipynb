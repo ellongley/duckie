{
 "cells": [
  {
   "cell_type": "markdown",
   "id": "4e1e6237",
   "metadata": {},
   "source": [
    "# Playground\n",
    "\n",
    "Notebook to try new features."
   ]
  },
  {
   "cell_type": "code",
   "execution_count": 1,
   "id": "28017b6b",
   "metadata": {},
   "outputs": [],
   "source": [
    "# to get the iris data\n",
    "from sklearn.datasets import load_iris\n",
    "\n",
    "# for data handling \n",
    "import pandas as pd\n",
    "import numpy as np\n",
    "\n",
    "# for plotting\n",
    "import matplotlib.pyplot as plt\n",
    "import seaborn as sns"
   ]
  },
  {
   "cell_type": "markdown",
   "id": "5943fcb2",
   "metadata": {},
   "source": [
    "## Example Classification Problem"
   ]
  },
  {
   "cell_type": "code",
   "execution_count": 2,
   "id": "f05f54c8",
   "metadata": {},
   "outputs": [],
   "source": [
    "## Load the data\n",
    "iris = load_iris()\n",
    "iris_df = pd.DataFrame(iris['data'],columns = ['sepal_length','sepal_width','petal_length','petal_width'])\n",
    "\n",
    "## Create a virginica variable\n",
    "## this will be our target\n",
    "iris_df['virginica'] = 0 \n",
    "iris_df.loc[iris['target'] == 2,'virginica'] = 1\n",
    "\n",
    "X = iris_df[['sepal_length','sepal_width','petal_length','petal_width']]\n",
    "y = iris_df['virginica'].to_numpy()"
   ]
  },
  {
   "cell_type": "code",
   "execution_count": 3,
   "id": "413294b0",
   "metadata": {},
   "outputs": [],
   "source": [
    "from sklearn.model_selection import train_test_split"
   ]
  },
  {
   "cell_type": "code",
   "execution_count": 4,
   "id": "18bb3585",
   "metadata": {},
   "outputs": [],
   "source": [
    "X_train, X_test, y_train, y_test = train_test_split(X, y, \n",
    "                                                    test_size=0.1, \n",
    "                                                    random_state=111)"
   ]
  },
  {
   "cell_type": "code",
   "execution_count": 54,
   "id": "2b20de1a",
   "metadata": {},
   "outputs": [],
   "source": [
    "X_train = pd.DataFrame(X_train,columns=['sepal_length','sepal_width','petal_length','petal_width'])\n",
    "y_train = pd.DataFrame(y_train,columns=['virginica'])\n",
    "\n",
    "X_test = pd.DataFrame(X_test,columns=['sepal_length','sepal_width','petal_length','petal_width'])\n",
    "y_test = pd.DataFrame(y_test,columns=['virginica'])"
   ]
  },
  {
   "cell_type": "code",
   "execution_count": 55,
   "id": "c45174b7",
   "metadata": {},
   "outputs": [],
   "source": [
    "## import Nearest Neighbors\n",
    "from sklearn.neighbors import KNeighborsClassifier"
   ]
  },
  {
   "cell_type": "code",
   "execution_count": 56,
   "id": "729b5318",
   "metadata": {},
   "outputs": [
    {
     "data": {
      "text/plain": [
       "Index(['sepal_length', 'sepal_width', 'petal_length', 'petal_width'], dtype='object')"
      ]
     },
     "execution_count": 56,
     "metadata": {},
     "output_type": "execute_result"
    }
   ],
   "source": [
    "X_train.columns"
   ]
  },
  {
   "cell_type": "code",
   "execution_count": 57,
   "id": "e2cf51fd",
   "metadata": {},
   "outputs": [],
   "source": [
    "X_samp = X_test.sample(frac=0.2)"
   ]
  },
  {
   "cell_type": "code",
   "execution_count": 58,
   "id": "17db995a",
   "metadata": {},
   "outputs": [
    {
     "data": {
      "text/plain": [
       "(15, 4)"
      ]
     },
     "execution_count": 58,
     "metadata": {},
     "output_type": "execute_result"
    }
   ],
   "source": [
    "X_test.shape"
   ]
  },
  {
   "cell_type": "code",
   "execution_count": 59,
   "id": "c44aaf99",
   "metadata": {},
   "outputs": [
    {
     "data": {
      "text/html": [
       "<div>\n",
       "<style scoped>\n",
       "    .dataframe tbody tr th:only-of-type {\n",
       "        vertical-align: middle;\n",
       "    }\n",
       "\n",
       "    .dataframe tbody tr th {\n",
       "        vertical-align: top;\n",
       "    }\n",
       "\n",
       "    .dataframe thead th {\n",
       "        text-align: right;\n",
       "    }\n",
       "</style>\n",
       "<table border=\"1\" class=\"dataframe\">\n",
       "  <thead>\n",
       "    <tr style=\"text-align: right;\">\n",
       "      <th></th>\n",
       "      <th>sepal_length</th>\n",
       "      <th>sepal_width</th>\n",
       "      <th>petal_length</th>\n",
       "      <th>petal_width</th>\n",
       "    </tr>\n",
       "  </thead>\n",
       "  <tbody>\n",
       "    <tr>\n",
       "      <th>24</th>\n",
       "      <td>4.8</td>\n",
       "      <td>3.4</td>\n",
       "      <td>1.9</td>\n",
       "      <td>0.2</td>\n",
       "    </tr>\n",
       "    <tr>\n",
       "      <th>109</th>\n",
       "      <td>7.2</td>\n",
       "      <td>3.6</td>\n",
       "      <td>6.1</td>\n",
       "      <td>2.5</td>\n",
       "    </tr>\n",
       "    <tr>\n",
       "      <th>77</th>\n",
       "      <td>6.7</td>\n",
       "      <td>3.0</td>\n",
       "      <td>5.0</td>\n",
       "      <td>1.7</td>\n",
       "    </tr>\n",
       "  </tbody>\n",
       "</table>\n",
       "</div>"
      ],
      "text/plain": [
       "     sepal_length  sepal_width  petal_length  petal_width\n",
       "24            4.8          3.4           1.9          0.2\n",
       "109           7.2          3.6           6.1          2.5\n",
       "77            6.7          3.0           5.0          1.7"
      ]
     },
     "execution_count": 59,
     "metadata": {},
     "output_type": "execute_result"
    }
   ],
   "source": [
    "X_samp"
   ]
  },
  {
   "cell_type": "code",
   "execution_count": 14,
   "id": "56ee908a",
   "metadata": {},
   "outputs": [],
   "source": [
    "## Make the model object\n",
    "knn = KNeighborsClassifier(n_neighbors = 5)\n",
    "\n",
    "## Fit the model object\n",
    "knn.fit(X_train.values,y_train.values.ravel())\n",
    "\n",
    "## get the predictions\n",
    "y_test_pred = knn.predict(X_test.values)\n",
    "y_test_pred = pd.DataFrame(y_test_pred,columns=y_train.columns)"
   ]
  },
  {
   "cell_type": "code",
   "execution_count": 16,
   "id": "9634333a",
   "metadata": {},
   "outputs": [],
   "source": [
    "from duckie.ml import ML"
   ]
  },
  {
   "cell_type": "code",
   "execution_count": 25,
   "id": "15e4b13c",
   "metadata": {},
   "outputs": [],
   "source": [
    "ml = ML(name='KNN',skml=knn,training_data={'X':X_train,'Y':y_train},trained=True)"
   ]
  },
  {
   "cell_type": "code",
   "execution_count": 38,
   "id": "1875edf0",
   "metadata": {},
   "outputs": [],
   "source": [
    "import pickle\n",
    "\n",
    "\n",
    "pickle.dump( ml, open( \"../tests/test_data/KNN/ml\", \"wb\" ) )"
   ]
  },
  {
   "cell_type": "code",
   "execution_count": 42,
   "id": "da3a20ee",
   "metadata": {},
   "outputs": [
    {
     "name": "stdout",
     "output_type": "stream",
     "text": [
      "KNN.joblib ml         y_test     y_train\r\n"
     ]
    }
   ],
   "source": [
    "!ls ../tests/test_data/KNN"
   ]
  },
  {
   "cell_type": "code",
   "execution_count": null,
   "id": "09479c03",
   "metadata": {},
   "outputs": [],
   "source": []
  }
 ],
 "metadata": {
  "kernelspec": {
   "display_name": "Python 3",
   "language": "python",
   "name": "python3"
  },
  "language_info": {
   "codemirror_mode": {
    "name": "ipython",
    "version": 3
   },
   "file_extension": ".py",
   "mimetype": "text/x-python",
   "name": "python",
   "nbconvert_exporter": "python",
   "pygments_lexer": "ipython3",
   "version": "3.8.8"
  }
 },
 "nbformat": 4,
 "nbformat_minor": 5
}
