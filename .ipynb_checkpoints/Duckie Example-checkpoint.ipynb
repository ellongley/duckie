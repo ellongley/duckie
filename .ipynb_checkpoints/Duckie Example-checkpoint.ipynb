{
 "cells": [
  {
   "cell_type": "markdown",
   "id": "7d75b8e8",
   "metadata": {},
   "source": [
    "# Duckie Example\n",
    "\n",
    "An example of how to use Duckie - a testing framework for ML algorithms.\n"
   ]
  },
  {
   "cell_type": "code",
   "execution_count": 1,
   "id": "dc8d7ba5",
   "metadata": {},
   "outputs": [],
   "source": [
    "# to get the iris data\n",
    "from sklearn.datasets import load_iris\n",
    "\n",
    "# for data handling \n",
    "import pandas as pd\n",
    "import numpy as np\n",
    "\n",
    "# for plotting\n",
    "import matplotlib.pyplot as plt\n",
    "import seaborn as sns"
   ]
  },
  {
   "cell_type": "code",
   "execution_count": 2,
   "id": "099a8dd7",
   "metadata": {},
   "outputs": [],
   "source": [
    "from duckie.mloutput_assessments import ConfusionMatrixAssessment"
   ]
  },
  {
   "cell_type": "markdown",
   "id": "4af94b7a",
   "metadata": {},
   "source": [
    "## Example Classification Problem"
   ]
  },
  {
   "cell_type": "code",
   "execution_count": 3,
   "id": "a98703b7",
   "metadata": {},
   "outputs": [],
   "source": [
    "## Load the data\n",
    "iris = load_iris()\n",
    "iris_df = pd.DataFrame(iris['data'],columns = ['sepal_length','sepal_width','petal_length','petal_width'])\n",
    "\n",
    "## Create a virginica variable\n",
    "## this will be our target\n",
    "iris_df['virginica'] = 0 \n",
    "iris_df.loc[iris['target'] == 2,'virginica'] = 1\n",
    "\n",
    "X = iris_df[['sepal_length','sepal_width','petal_length','petal_width']].to_numpy()\n",
    "y = iris_df['virginica'].to_numpy()"
   ]
  },
  {
   "cell_type": "code",
   "execution_count": 4,
   "id": "42f5d646",
   "metadata": {},
   "outputs": [],
   "source": [
    "from sklearn.model_selection import train_test_split"
   ]
  },
  {
   "cell_type": "code",
   "execution_count": 5,
   "id": "c9c334a7",
   "metadata": {},
   "outputs": [],
   "source": [
    "X_train, X_test, y_train, y_test = train_test_split(X, y, \n",
    "                                                    test_size=0.1, \n",
    "                                                    random_state=111)"
   ]
  },
  {
   "cell_type": "code",
   "execution_count": 6,
   "id": "67c37d03",
   "metadata": {},
   "outputs": [],
   "source": [
    "## import Nearest Neighbors\n",
    "from sklearn.neighbors import KNeighborsClassifier"
   ]
  },
  {
   "cell_type": "code",
   "execution_count": 7,
   "id": "92e76650",
   "metadata": {},
   "outputs": [],
   "source": [
    "## Make the model object\n",
    "knn = KNeighborsClassifier(n_neighbors = 5)\n",
    "\n",
    "## Fit the model object\n",
    "knn.fit(X_train,y_train)\n",
    "\n",
    "## get the predictions\n",
    "y_test_pred = knn.predict(X_test)"
   ]
  },
  {
   "cell_type": "code",
   "execution_count": 8,
   "id": "06667e9b",
   "metadata": {},
   "outputs": [],
   "source": [
    "## now we can import the confusion matrix\n",
    "## function from sklearn\n",
    "from sklearn.metrics import confusion_matrix"
   ]
  },
  {
   "cell_type": "code",
   "execution_count": 9,
   "id": "4b89aaf8",
   "metadata": {},
   "outputs": [],
   "source": [
    "# Calculate the confusion matrix here\n",
    "knn_confusion_matrix = confusion_matrix(y_test, y_test_pred)"
   ]
  },
  {
   "cell_type": "code",
   "execution_count": 10,
   "id": "69a5a8bb",
   "metadata": {},
   "outputs": [
    {
     "data": {
      "text/plain": [
       "array([[7, 0],\n",
       "       [1, 7]])"
      ]
     },
     "execution_count": 10,
     "metadata": {},
     "output_type": "execute_result"
    }
   ],
   "source": [
    "knn_confusion_matrix"
   ]
  },
  {
   "cell_type": "code",
   "execution_count": 11,
   "id": "edab4962",
   "metadata": {},
   "outputs": [],
   "source": [
    "# import RandomForest Classifier\n",
    "from sklearn.ensemble import RandomForestClassifier"
   ]
  },
  {
   "cell_type": "code",
   "execution_count": 12,
   "id": "4d5149a8",
   "metadata": {},
   "outputs": [],
   "source": [
    "## Make the model object\n",
    "rfc = RandomForestClassifier()\n",
    "\n",
    "## Fit the model object\n",
    "rfc.fit(X_train,y_train)\n",
    "\n",
    "## get the predictions\n",
    "y_test_pred = rfc.predict(X_test)"
   ]
  },
  {
   "cell_type": "code",
   "execution_count": 13,
   "id": "e9a3e788",
   "metadata": {},
   "outputs": [],
   "source": [
    "rfc_confusion_matrix = confusion_matrix(y_test, y_test_pred)"
   ]
  },
  {
   "cell_type": "code",
   "execution_count": 14,
   "id": "ad6ceb84",
   "metadata": {},
   "outputs": [
    {
     "data": {
      "text/plain": [
       "array([[6, 1],\n",
       "       [1, 7]])"
      ]
     },
     "execution_count": 14,
     "metadata": {},
     "output_type": "execute_result"
    }
   ],
   "source": [
    "rfc_confusion_matrix"
   ]
  },
  {
   "cell_type": "markdown",
   "id": "0784a287",
   "metadata": {},
   "source": [
    "## Confusion Matrix Assessment"
   ]
  },
  {
   "cell_type": "code",
   "execution_count": 15,
   "id": "481d3540",
   "metadata": {},
   "outputs": [],
   "source": [
    "mats = [knn_confusion_matrix, rfc_confusion_matrix]"
   ]
  },
  {
   "cell_type": "code",
   "execution_count": 16,
   "id": "15c879a5",
   "metadata": {},
   "outputs": [],
   "source": [
    "cma = ConfusionMatrixAssessment(mats,model_names=['KNN','RandomForest'])"
   ]
  },
  {
   "cell_type": "markdown",
   "id": "be887496",
   "metadata": {},
   "source": [
    "### Summary Data"
   ]
  },
  {
   "cell_type": "code",
   "execution_count": 17,
   "id": "ad962d5b",
   "metadata": {},
   "outputs": [],
   "source": [
    "summary_data = cma.summarize()"
   ]
  },
  {
   "cell_type": "code",
   "execution_count": 18,
   "id": "b07d2e49",
   "metadata": {},
   "outputs": [
    {
     "data": {
      "text/html": [
       "<div>\n",
       "<style scoped>\n",
       "    .dataframe tbody tr th:only-of-type {\n",
       "        vertical-align: middle;\n",
       "    }\n",
       "\n",
       "    .dataframe tbody tr th {\n",
       "        vertical-align: top;\n",
       "    }\n",
       "\n",
       "    .dataframe thead th {\n",
       "        text-align: right;\n",
       "    }\n",
       "</style>\n",
       "<table border=\"1\" class=\"dataframe\">\n",
       "  <thead>\n",
       "    <tr style=\"text-align: right;\">\n",
       "      <th></th>\n",
       "      <th>Model Name</th>\n",
       "      <th>precision</th>\n",
       "      <th>recall</th>\n",
       "      <th>f1_score</th>\n",
       "    </tr>\n",
       "  </thead>\n",
       "  <tbody>\n",
       "    <tr>\n",
       "      <th>0</th>\n",
       "      <td>KNN</td>\n",
       "      <td>1.000</td>\n",
       "      <td>0.875</td>\n",
       "      <td>0.933333</td>\n",
       "    </tr>\n",
       "    <tr>\n",
       "      <th>1</th>\n",
       "      <td>RandomForest</td>\n",
       "      <td>0.875</td>\n",
       "      <td>0.875</td>\n",
       "      <td>0.875000</td>\n",
       "    </tr>\n",
       "  </tbody>\n",
       "</table>\n",
       "</div>"
      ],
      "text/plain": [
       "     Model Name  precision  recall  f1_score\n",
       "0           KNN      1.000   0.875  0.933333\n",
       "1  RandomForest      0.875   0.875  0.875000"
      ]
     },
     "execution_count": 18,
     "metadata": {},
     "output_type": "execute_result"
    }
   ],
   "source": [
    "summary_data"
   ]
  },
  {
   "cell_type": "code",
   "execution_count": 19,
   "id": "32b19679",
   "metadata": {},
   "outputs": [
    {
     "data": {
      "text/plain": [
       "1.0"
      ]
     },
     "execution_count": 19,
     "metadata": {},
     "output_type": "execute_result"
    }
   ],
   "source": [
    "summary_data['precision'].values[0]"
   ]
  },
  {
   "cell_type": "markdown",
   "id": "0a49e458",
   "metadata": {},
   "source": [
    "### Output Distribution Data "
   ]
  },
  {
   "cell_type": "code",
   "execution_count": 20,
   "id": "4f84eb92",
   "metadata": {},
   "outputs": [
    {
     "data": {
      "text/plain": [
       "['KNN', 'RandomForest']"
      ]
     },
     "execution_count": 20,
     "metadata": {},
     "output_type": "execute_result"
    }
   ],
   "source": [
    "cma.model_names"
   ]
  },
  {
   "cell_type": "code",
   "execution_count": 21,
   "id": "9d6bb929",
   "metadata": {},
   "outputs": [],
   "source": [
    "distribution_data = cma.distribute()"
   ]
  },
  {
   "cell_type": "code",
   "execution_count": 22,
   "id": "7677b6be",
   "metadata": {},
   "outputs": [
    {
     "data": {
      "text/html": [
       "<div>\n",
       "<style scoped>\n",
       "    .dataframe tbody tr th:only-of-type {\n",
       "        vertical-align: middle;\n",
       "    }\n",
       "\n",
       "    .dataframe tbody tr th {\n",
       "        vertical-align: top;\n",
       "    }\n",
       "\n",
       "    .dataframe thead th {\n",
       "        text-align: right;\n",
       "    }\n",
       "</style>\n",
       "<table border=\"1\" class=\"dataframe\">\n",
       "  <thead>\n",
       "    <tr style=\"text-align: right;\">\n",
       "      <th></th>\n",
       "      <th>Model Name</th>\n",
       "      <th>category</th>\n",
       "      <th>counts</th>\n",
       "      <th>fractions</th>\n",
       "      <th>percentages</th>\n",
       "    </tr>\n",
       "  </thead>\n",
       "  <tbody>\n",
       "    <tr>\n",
       "      <th>0</th>\n",
       "      <td>KNN</td>\n",
       "      <td>TN</td>\n",
       "      <td>7</td>\n",
       "      <td>0.466667</td>\n",
       "      <td>46.666667</td>\n",
       "    </tr>\n",
       "    <tr>\n",
       "      <th>1</th>\n",
       "      <td>KNN</td>\n",
       "      <td>FP</td>\n",
       "      <td>0</td>\n",
       "      <td>0.000000</td>\n",
       "      <td>0.000000</td>\n",
       "    </tr>\n",
       "    <tr>\n",
       "      <th>2</th>\n",
       "      <td>KNN</td>\n",
       "      <td>FN</td>\n",
       "      <td>1</td>\n",
       "      <td>0.066667</td>\n",
       "      <td>6.666667</td>\n",
       "    </tr>\n",
       "    <tr>\n",
       "      <th>3</th>\n",
       "      <td>KNN</td>\n",
       "      <td>TP</td>\n",
       "      <td>7</td>\n",
       "      <td>0.466667</td>\n",
       "      <td>46.666667</td>\n",
       "    </tr>\n",
       "    <tr>\n",
       "      <th>4</th>\n",
       "      <td>RandomForest</td>\n",
       "      <td>TN</td>\n",
       "      <td>6</td>\n",
       "      <td>0.400000</td>\n",
       "      <td>40.000000</td>\n",
       "    </tr>\n",
       "    <tr>\n",
       "      <th>5</th>\n",
       "      <td>RandomForest</td>\n",
       "      <td>FP</td>\n",
       "      <td>1</td>\n",
       "      <td>0.066667</td>\n",
       "      <td>6.666667</td>\n",
       "    </tr>\n",
       "    <tr>\n",
       "      <th>6</th>\n",
       "      <td>RandomForest</td>\n",
       "      <td>FN</td>\n",
       "      <td>1</td>\n",
       "      <td>0.066667</td>\n",
       "      <td>6.666667</td>\n",
       "    </tr>\n",
       "    <tr>\n",
       "      <th>7</th>\n",
       "      <td>RandomForest</td>\n",
       "      <td>TP</td>\n",
       "      <td>7</td>\n",
       "      <td>0.466667</td>\n",
       "      <td>46.666667</td>\n",
       "    </tr>\n",
       "  </tbody>\n",
       "</table>\n",
       "</div>"
      ],
      "text/plain": [
       "     Model Name category  counts  fractions  percentages\n",
       "0           KNN       TN       7   0.466667    46.666667\n",
       "1           KNN       FP       0   0.000000     0.000000\n",
       "2           KNN       FN       1   0.066667     6.666667\n",
       "3           KNN       TP       7   0.466667    46.666667\n",
       "4  RandomForest       TN       6   0.400000    40.000000\n",
       "5  RandomForest       FP       1   0.066667     6.666667\n",
       "6  RandomForest       FN       1   0.066667     6.666667\n",
       "7  RandomForest       TP       7   0.466667    46.666667"
      ]
     },
     "execution_count": 22,
     "metadata": {},
     "output_type": "execute_result"
    }
   ],
   "source": [
    "distribution_data"
   ]
  },
  {
   "cell_type": "markdown",
   "id": "56b28597",
   "metadata": {},
   "source": [
    "### Confusion Matrix"
   ]
  },
  {
   "cell_type": "code",
   "execution_count": 23,
   "id": "8cd51c59",
   "metadata": {},
   "outputs": [],
   "source": [
    "# cmap='greens'}"
   ]
  },
  {
   "cell_type": "code",
   "execution_count": 24,
   "id": "5bc7c751",
   "metadata": {},
   "outputs": [],
   "source": [
    "import matplotlib \n",
    "matplotlib.rc('font', size=20) "
   ]
  },
  {
   "cell_type": "code",
   "execution_count": 25,
   "id": "2b14abef",
   "metadata": {},
   "outputs": [
    {
     "data": {
      "text/plain": [
       "['KNN', 'RandomForest']"
      ]
     },
     "execution_count": 25,
     "metadata": {},
     "output_type": "execute_result"
    }
   ],
   "source": [
    "cma.model_names"
   ]
  },
  {
   "cell_type": "code",
   "execution_count": 26,
   "id": "7f8b4c4a",
   "metadata": {},
   "outputs": [
    {
     "data": {
      "image/png": "[encoded data removed]",
      "text/plain": [
       "<Figure size 576x576 with 1 Axes>"
      ]
     },
     "metadata": {
      "needs_background": "light"
     },
     "output_type": "display_data"
    },
    {
     "data": {
      "text/plain": [
       "<Figure size 432x288 with 0 Axes>"
      ]
     },
     "metadata": {},
     "output_type": "display_data"
    },
    {
     "data": {
      "image/png": "[encoded data removed]",
      "text/plain": [
       "<Figure size 576x576 with 1 Axes>"
      ]
     },
     "metadata": {
      "needs_background": "light"
     },
     "output_type": "display_data"
    },
    {
     "data": {
      "text/plain": [
       "<Figure size 432x288 with 0 Axes>"
      ]
     },
     "metadata": {},
     "output_type": "display_data"
    }
   ],
   "source": [
    "# save_name, title, sns.heatmap args\n",
    "cma.plot(cmap=['Blues','Greens'])"
   ]
  },
  {
   "cell_type": "markdown",
   "id": "4bbdfc2a",
   "metadata": {},
   "source": [
    "## TrainTestStratAssessment"
   ]
  },
  {
   "cell_type": "code",
   "execution_count": 27,
   "id": "5a8fae33",
   "metadata": {},
   "outputs": [],
   "source": [
    "from duckie.mlinput_assessments import TrainTestStratAssessment"
   ]
  },
  {
   "cell_type": "markdown",
   "id": "1e7893db",
   "metadata": {},
   "source": [
    "Checking what happens when we don't stratify our test / train data."
   ]
  },
  {
   "cell_type": "code",
   "execution_count": 28,
   "id": "130b1294",
   "metadata": {},
   "outputs": [
    {
     "data": {
      "text/plain": [
       "150"
      ]
     },
     "execution_count": 28,
     "metadata": {},
     "output_type": "execute_result"
    }
   ],
   "source": [
    "len(iris_df['virginica'])"
   ]
  },
  {
   "cell_type": "code",
   "execution_count": 29,
   "id": "92983fbf",
   "metadata": {},
   "outputs": [],
   "source": [
    "train = iris_df[['virginica']][0:50]\n",
    "test = iris_df[['virginica']][50:]"
   ]
  },
  {
   "cell_type": "code",
   "execution_count": 30,
   "id": "43b27eca",
   "metadata": {},
   "outputs": [],
   "source": [
    "ttsa = TrainTestStratAssessment(train,test,['virginica'])"
   ]
  },
  {
   "cell_type": "markdown",
   "id": "a4fde625",
   "metadata": {},
   "source": [
    "Good, we get a warning as we should!"
   ]
  },
  {
   "cell_type": "code",
   "execution_count": 31,
   "id": "1fb13ef3",
   "metadata": {},
   "outputs": [
    {
     "name": "stdout",
     "output_type": "stream",
     "text": [
      "Checking feature virginica.\n",
      "Training sample is 100.00%                     0 for feature virginica.\n",
      "Test sample is 50.00%                     1: for feature virginica.\n",
      "Test sample is 50.00%                     0: for feature virginica.\n"
     ]
    },
    {
     "name": "stderr",
     "output_type": "stream",
     "text": [
      "/Users/Emily/Desktop/duckie/duckie/mlinput_assessments.py:48: UserWarning: Warning! There are 1 feature types of                     feature virginica in the training data, but there are 2                    feature types of virginica in the test data!\n",
      "  warnings.warn(warning_text)\n"
     ]
    }
   ],
   "source": [
    "norm_counts_train_full, norm_counts_test_full = ttsa.assess()"
   ]
  },
  {
   "cell_type": "code",
   "execution_count": 32,
   "id": "3e4ccf47",
   "metadata": {},
   "outputs": [
    {
     "data": {
      "text/plain": [
       "[1    0.5\n",
       " 0    0.5\n",
       " Name: virginica, dtype: float64]"
      ]
     },
     "execution_count": 32,
     "metadata": {},
     "output_type": "execute_result"
    }
   ],
   "source": [
    "norm_counts_test_full"
   ]
  },
  {
   "cell_type": "code",
   "execution_count": 33,
   "id": "d6da3722",
   "metadata": {},
   "outputs": [
    {
     "data": {
      "text/plain": [
       "[0    1.0\n",
       " Name: virginica, dtype: float64]"
      ]
     },
     "execution_count": 33,
     "metadata": {},
     "output_type": "execute_result"
    }
   ],
   "source": [
    "norm_counts_train_full"
   ]
  },
  {
   "cell_type": "code",
   "execution_count": 34,
   "id": "dd8ea14d",
   "metadata": {},
   "outputs": [
    {
     "data": {
      "text/plain": [
       "array([0, 1])"
      ]
     },
     "execution_count": 34,
     "metadata": {},
     "output_type": "execute_result"
    }
   ],
   "source": [
    "np.unique(test['virginica'])"
   ]
  },
  {
   "cell_type": "code",
   "execution_count": 35,
   "id": "f9d45d80",
   "metadata": {},
   "outputs": [
    {
     "data": {
      "text/plain": [
       "array([0])"
      ]
     },
     "execution_count": 35,
     "metadata": {},
     "output_type": "execute_result"
    }
   ],
   "source": [
    "np.unique(train['virginica'])"
   ]
  },
  {
   "cell_type": "markdown",
   "id": "ded5a6b0",
   "metadata": {},
   "source": [
    "Checking what happens when we stratify our test data."
   ]
  },
  {
   "cell_type": "code",
   "execution_count": 36,
   "id": "a0ba700a",
   "metadata": {},
   "outputs": [],
   "source": [
    "x = iris_df['virginica'].to_numpy()"
   ]
  },
  {
   "cell_type": "code",
   "execution_count": 37,
   "id": "aee34e17",
   "metadata": {},
   "outputs": [],
   "source": [
    "train, test, y_train, y_test = train_test_split(X, y, \n",
    "                                                    test_size=0.2, \n",
    "                                                    random_state=111,\n",
    "                                                    stratify=y)"
   ]
  },
  {
   "cell_type": "code",
   "execution_count": 38,
   "id": "c2de598e",
   "metadata": {},
   "outputs": [],
   "source": [
    "y_train = pd.DataFrame({'virginica':y_train})\n",
    "y_test = pd.DataFrame({'virginica':y_test})"
   ]
  },
  {
   "cell_type": "code",
   "execution_count": 39,
   "id": "5b415cf7",
   "metadata": {},
   "outputs": [],
   "source": [
    "ttsa = TrainTestStratAssessment(y_train,y_test,['virginica'])"
   ]
  },
  {
   "cell_type": "code",
   "execution_count": 40,
   "id": "612310c3",
   "metadata": {},
   "outputs": [
    {
     "name": "stdout",
     "output_type": "stream",
     "text": [
      "Checking feature virginica.\n",
      "Training sample is 66.67%                     0 for feature virginica.\n",
      "Training sample is 33.33%                     1 for feature virginica.\n",
      "Test sample is 66.67%                     0: for feature virginica.\n",
      "Test sample is 33.33%                     1: for feature virginica.\n"
     ]
    }
   ],
   "source": [
    "norm_counts_test_full, norm_counts_train_full = ttsa.assess()"
   ]
  },
  {
   "cell_type": "code",
   "execution_count": null,
   "id": "49393099",
   "metadata": {},
   "outputs": [],
   "source": []
  },
  {
   "cell_type": "code",
   "execution_count": null,
   "id": "de930478",
   "metadata": {},
   "outputs": [],
   "source": []
  },
  {
   "cell_type": "code",
   "execution_count": null,
   "id": "1edeaf63",
   "metadata": {},
   "outputs": [],
   "source": []
  },
  {
   "cell_type": "code",
   "execution_count": null,
   "id": "6086e75b",
   "metadata": {},
   "outputs": [],
   "source": []
  },
  {
   "cell_type": "code",
   "execution_count": null,
   "id": "7ceeb0cb",
   "metadata": {},
   "outputs": [],
   "source": []
  },
  {
   "cell_type": "code",
   "execution_count": null,
   "id": "0cb96844",
   "metadata": {},
   "outputs": [],
   "source": []
  }
 ],
 "metadata": {
  "kernelspec": {
   "display_name": "Python 3",
   "language": "python",
   "name": "python3"
  },
  "language_info": {
   "codemirror_mode": {
    "name": "ipython",
    "version": 3
   },
   "file_extension": ".py",
   "mimetype": "text/x-python",
   "name": "python",
   "nbconvert_exporter": "python",
   "pygments_lexer": "ipython3",
   "version": "3.8.8"
  }
 },
 "nbformat": 4,
 "nbformat_minor": 5
}
