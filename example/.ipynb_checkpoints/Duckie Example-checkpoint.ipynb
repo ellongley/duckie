{
 "cells": [
  {
   "cell_type": "markdown",
   "id": "7d75b8e8",
   "metadata": {},
   "source": [
    "# Duckie Example\n",
    "\n",
    "An example of how to use Duckie - a testing framework for ML algorithms."
   ]
  },
  {
   "cell_type": "code",
   "execution_count": 11,
   "id": "dc8d7ba5",
   "metadata": {},
   "outputs": [],
   "source": [
    "# to get the iris data\n",
    "from sklearn.datasets import load_iris\n",
    "\n",
    "# for data handling \n",
    "import pandas as pd\n",
    "import numpy as np\n",
    "\n",
    "# for plotting\n",
    "import matplotlib.pyplot as plt\n",
    "import seaborn as sns\n",
    "\n",
    "sns.set_style(\"dark\")"
   ]
  },
  {
   "cell_type": "code",
   "execution_count": 25,
   "id": "b4313ba6",
   "metadata": {},
   "outputs": [
    {
     "name": "stdout",
     "output_type": "stream",
     "text": [
      "/Users/Emily/Desktop/duckie/example\r\n"
     ]
    }
   ],
   "source": [
    "!pwd"
   ]
  },
  {
   "cell_type": "code",
   "execution_count": 24,
   "id": "099a8dd7",
   "metadata": {},
   "outputs": [
    {
     "ename": "ModuleNotFoundError",
     "evalue": "No module named 'duckie'",
     "output_type": "error",
     "traceback": [
      "\u001b[0;31m---------------------------------------------------------------------------\u001b[0m",
      "\u001b[0;31mModuleNotFoundError\u001b[0m                       Traceback (most recent call last)",
      "\u001b[0;32m<ipython-input-24-cec5bf864a49>\u001b[0m in \u001b[0;36m<module>\u001b[0;34m\u001b[0m\n\u001b[0;32m----> 1\u001b[0;31m \u001b[0;32mfrom\u001b[0m \u001b[0mduckie\u001b[0m\u001b[0;34m.\u001b[0m\u001b[0mmloutputs_assessments\u001b[0m \u001b[0;32mimport\u001b[0m \u001b[0mConfusionMatrixAssessments\u001b[0m\u001b[0;34m\u001b[0m\u001b[0;34m\u001b[0m\u001b[0m\n\u001b[0m",
      "\u001b[0;31mModuleNotFoundError\u001b[0m: No module named 'duckie'"
     ]
    }
   ],
   "source": [
    "from duckie.mloutputs_assessments import ConfusionMatrixAssessments"
   ]
  },
  {
   "cell_type": "code",
   "execution_count": 12,
   "id": "a98703b7",
   "metadata": {},
   "outputs": [],
   "source": [
    "## Load the data\n",
    "iris = load_iris()\n",
    "iris_df = pd.DataFrame(iris['data'],columns = ['sepal_length','sepal_width','petal_length','petal_width'])\n",
    "\n",
    "## Create a virginica variable\n",
    "## this will be our target\n",
    "iris_df['virginica'] = 0 \n",
    "iris_df.loc[iris['target'] == 2,'virginica'] = 1\n",
    "\n",
    "X = iris_df[['sepal_length','sepal_width','petal_length','petal_width']].to_numpy()\n",
    "y = iris_df['virginica'].to_numpy()"
   ]
  },
  {
   "cell_type": "code",
   "execution_count": 13,
   "id": "42f5d646",
   "metadata": {},
   "outputs": [],
   "source": [
    "from sklearn.model_selection import train_test_split"
   ]
  },
  {
   "cell_type": "code",
   "execution_count": 14,
   "id": "c9c334a7",
   "metadata": {},
   "outputs": [],
   "source": [
    "X_train, X_test, y_train, y_test = train_test_split(X, y, \n",
    "                                                    test_size=0.2, \n",
    "                                                    random_state=111,\n",
    "                                                    stratify=y)"
   ]
  },
  {
   "cell_type": "code",
   "execution_count": 15,
   "id": "67c37d03",
   "metadata": {},
   "outputs": [],
   "source": [
    "## import Nearest Neighbors\n",
    "from sklearn.neighbors import KNeighborsClassifier"
   ]
  },
  {
   "cell_type": "code",
   "execution_count": 16,
   "id": "92e76650",
   "metadata": {},
   "outputs": [],
   "source": [
    "## Make the model object\n",
    "knn = KNeighborsClassifier(n_neighbors = 5)\n",
    "\n",
    "## Fit the model object\n",
    "knn.fit(X_train,y_train)\n",
    "\n",
    "## get the predictions\n",
    "y_train_pred = knn.predict(X_train)"
   ]
  },
  {
   "cell_type": "code",
   "execution_count": 17,
   "id": "06667e9b",
   "metadata": {},
   "outputs": [],
   "source": [
    "## now we can import the confusion matrix\n",
    "## function from sklearn\n",
    "from sklearn.metrics import confusion_matrix"
   ]
  },
  {
   "cell_type": "code",
   "execution_count": 18,
   "id": "29ef49ce",
   "metadata": {},
   "outputs": [
    {
     "data": {
      "text/plain": [
       "(2, 2)"
      ]
     },
     "execution_count": 18,
     "metadata": {},
     "output_type": "execute_result"
    }
   ],
   "source": [
    "confusion_matrix(y_train, y_train_pred).shape"
   ]
  },
  {
   "cell_type": "code",
   "execution_count": 19,
   "id": "0b09c236",
   "metadata": {},
   "outputs": [
    {
     "data": {
      "text/plain": [
       "array([[77,  3],\n",
       "       [ 2, 38]])"
      ]
     },
     "execution_count": 19,
     "metadata": {},
     "output_type": "execute_result"
    }
   ],
   "source": [
    "## Calculate the confusion matrix here\n",
    "\n",
    "TN = confusion_matrix(y_train, y_train_pred)[0,0]\n",
    "FP = confusion_matrix(y_train, y_train_pred)[0,1]\n",
    "FN = confusion_matrix(y_train, y_train_pred)[1,0]\n",
    "TP = confusion_matrix(y_train, y_train_pred)[1,1]\n",
    "\n",
    "confusion_matrix(y_train, y_train_pred)"
   ]
  },
  {
   "cell_type": "code",
   "execution_count": 21,
   "id": "4d5149a8",
   "metadata": {},
   "outputs": [],
   "source": [
    "knn_confusion_matrix = confusion_matrix(y_train, y_train_pred)"
   ]
  },
  {
   "cell_type": "code",
   "execution_count": null,
   "id": "0bfbfb10",
   "metadata": {},
   "outputs": [],
   "source": []
  }
 ],
 "metadata": {
  "kernelspec": {
   "display_name": "Python 3",
   "language": "python",
   "name": "python3"
  },
  "language_info": {
   "codemirror_mode": {
    "name": "ipython",
    "version": 3
   },
   "file_extension": ".py",
   "mimetype": "text/x-python",
   "name": "python",
   "nbconvert_exporter": "python",
   "pygments_lexer": "ipython3",
   "version": "3.8.8"
  }
 },
 "nbformat": 4,
 "nbformat_minor": 5
}
